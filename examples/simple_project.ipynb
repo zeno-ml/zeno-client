{
 "cells": [
  {
   "cell_type": "code",
   "execution_count": 2,
   "metadata": {},
   "outputs": [
    {
     "ename": "KeyError",
     "evalue": "'ZENO_LOCAL_API_KEY'",
     "output_type": "error",
     "traceback": [
      "\u001b[0;31m---------------------------------------------------------------------------\u001b[0m",
      "\u001b[0;31mKeyError\u001b[0m                                  Traceback (most recent call last)",
      "\u001b[1;32m/Users/acabrera/dev/zeno-client/examples/simple_project.ipynb Cell 1\u001b[0m line \u001b[0;36m5\n\u001b[1;32m      <a href='vscode-notebook-cell:/Users/acabrera/dev/zeno-client/examples/simple_project.ipynb#W0sZmlsZQ%3D%3D?line=1'>2</a>\u001b[0m \u001b[39mimport\u001b[39;00m \u001b[39mos\u001b[39;00m\n\u001b[1;32m      <a href='vscode-notebook-cell:/Users/acabrera/dev/zeno-client/examples/simple_project.ipynb#W0sZmlsZQ%3D%3D?line=2'>3</a>\u001b[0m \u001b[39mimport\u001b[39;00m \u001b[39mpandas\u001b[39;00m \u001b[39mas\u001b[39;00m \u001b[39mpd\u001b[39;00m\n\u001b[0;32m----> <a href='vscode-notebook-cell:/Users/acabrera/dev/zeno-client/examples/simple_project.ipynb#W0sZmlsZQ%3D%3D?line=4'>5</a>\u001b[0m API_KEY \u001b[39m=\u001b[39m os\u001b[39m.\u001b[39;49menviron[\u001b[39m\"\u001b[39;49m\u001b[39mZENO_LOCAL_API_KEY\u001b[39;49m\u001b[39m\"\u001b[39;49m]\n",
      "File \u001b[0;32m/opt/anaconda3/lib/python3.8/os.py:675\u001b[0m, in \u001b[0;36m_Environ.__getitem__\u001b[0;34m(self, key)\u001b[0m\n\u001b[1;32m    672\u001b[0m     value \u001b[39m=\u001b[39m \u001b[39mself\u001b[39m\u001b[39m.\u001b[39m_data[\u001b[39mself\u001b[39m\u001b[39m.\u001b[39mencodekey(key)]\n\u001b[1;32m    673\u001b[0m \u001b[39mexcept\u001b[39;00m \u001b[39mKeyError\u001b[39;00m:\n\u001b[1;32m    674\u001b[0m     \u001b[39m# raise KeyError with the original key value\u001b[39;00m\n\u001b[0;32m--> 675\u001b[0m     \u001b[39mraise\u001b[39;00m \u001b[39mKeyError\u001b[39;00m(key) \u001b[39mfrom\u001b[39;00m \u001b[39mNone\u001b[39;00m\n\u001b[1;32m    676\u001b[0m \u001b[39mreturn\u001b[39;00m \u001b[39mself\u001b[39m\u001b[39m.\u001b[39mdecodevalue(value)\n",
      "\u001b[0;31mKeyError\u001b[0m: 'ZENO_LOCAL_API_KEY'"
     ]
    }
   ],
   "source": [
    "from zeno_client import ZenoClient, ZenoMetric\n",
    "import os\n",
    "import pandas as pd\n",
    "\n",
    "API_KEY = os.environ[\"ZENO_LOCAL_API_KEY\"]"
   ]
  },
  {
   "cell_type": "code",
   "execution_count": 3,
   "metadata": {},
   "outputs": [
    {
     "ename": "ClientVersionError",
     "evalue": "Please upgrade your zeno-client package to version 0.1.9 or higher",
     "output_type": "error",
     "traceback": [
      "\u001b[0;31m---------------------------------------------------------------------------\u001b[0m",
      "\u001b[0;31mClientVersionError\u001b[0m                        Traceback (most recent call last)",
      "\u001b[1;32m/Users/acabrera/dev/zeno-client/examples/simple_project.ipynb Cell 2\u001b[0m line \u001b[0;36m1\n\u001b[0;32m----> <a href='vscode-notebook-cell:/Users/acabrera/dev/zeno-client/examples/simple_project.ipynb#W1sZmlsZQ%3D%3D?line=0'>1</a>\u001b[0m zeno_client \u001b[39m=\u001b[39m ZenoClient(\u001b[39m\"\u001b[39;49m\u001b[39mzen_r5gHeeHtJl_PdvcJU8WnGSTfrcxeREarZypRse5xJzE\u001b[39;49m\u001b[39m\"\u001b[39;49m, endpoint\u001b[39m=\u001b[39;49m\u001b[39m\"\u001b[39;49m\u001b[39mhttps://api.dev.zenoml.com\u001b[39;49m\u001b[39m\"\u001b[39;49m)\n",
      "File \u001b[0;32m~/dev/zeno-client/zeno_client/client.py:262\u001b[0m, in \u001b[0;36mZenoClient.__init__\u001b[0;34m(self, api_key, endpoint)\u001b[0m\n\u001b[1;32m    260\u001b[0m     response \u001b[39m=\u001b[39m response\u001b[39m.\u001b[39mtext\u001b[39m.\u001b[39mreplace(\u001b[39m'\u001b[39m\u001b[39m\"\u001b[39m\u001b[39m'\u001b[39m, \u001b[39m\"\u001b[39m\u001b[39m\"\u001b[39m)\n\u001b[1;32m    261\u001b[0m     \u001b[39mif\u001b[39;00m version\u001b[39m.\u001b[39mparse(response) \u001b[39m>\u001b[39m version\u001b[39m.\u001b[39mparse(package_version(\u001b[39m\"\u001b[39m\u001b[39mzeno-client\u001b[39m\u001b[39m\"\u001b[39m)):\n\u001b[0;32m--> 262\u001b[0m         \u001b[39mraise\u001b[39;00m ClientVersionError(\n\u001b[1;32m    263\u001b[0m             \u001b[39mf\u001b[39m\u001b[39m\"\u001b[39m\u001b[39mPlease upgrade your zeno-client package to version \u001b[39m\u001b[39m{\u001b[39;00mresponse\u001b[39m}\u001b[39;00m\u001b[39m or \u001b[39m\u001b[39m\"\u001b[39m\n\u001b[1;32m    264\u001b[0m             \u001b[39m\"\u001b[39m\u001b[39mhigher\u001b[39m\u001b[39m\"\u001b[39m\n\u001b[1;32m    265\u001b[0m         )\n\u001b[1;32m    266\u001b[0m \u001b[39melse\u001b[39;00m:\n\u001b[1;32m    267\u001b[0m     _handle_error_response(response)\n",
      "\u001b[0;31mClientVersionError\u001b[0m: Please upgrade your zeno-client package to version 0.1.9 or higher"
     ]
    }
   ],
   "source": [
    "zeno_client = ZenoClient(\"zen_r5gHeeHtJl_PdvcJU8WnGSTfrcxeREarZypRse5xJzE\", endpoint=\"https://api.dev.zenoml.com\")"
   ]
  },
  {
   "cell_type": "code",
   "execution_count": null,
   "metadata": {},
   "outputs": [],
   "source": [
    "project = zeno_client.create_project(\n",
    "    name=\"text_project\", \n",
    "    view=\"text-classification\",\n",
    "    metrics=[ZenoMetric(name=\"accuracy\", type=\"mean\", columns=[\"correct\"])]\n",
    ")"
   ]
  },
  {
   "cell_type": "code",
   "execution_count": null,
   "metadata": {},
   "outputs": [],
   "source": [
    "df = pd.DataFrame(\n",
    "    {\n",
    "        \"id\": [\"hello world\", \"lorem ipsum\", \"zeno rocks!\", \"zeno is awesome!\"],        \n",
    "        \"text\": [\"hello world\", \"lorem ipsum\", \"zeno rocks!\", \"zeno is awesome!\"],\n",
    "        \"label\": [\"a\", \"b\", \"a\", \"b\"],\n",
    "    }\n",
    ")\n",
    "df[\"length\"] = df[\"text\"].apply(len)\n",
    "df.head()\n"
   ]
  },
  {
   "cell_type": "code",
   "execution_count": null,
   "metadata": {},
   "outputs": [],
   "source": [
    "project.upload_dataset(df, id_column=\"id\", label_column=\"label\", data_column='text')"
   ]
  },
  {
   "cell_type": "code",
   "execution_count": null,
   "metadata": {},
   "outputs": [],
   "source": [
    "df_system_A = pd.DataFrame(\n",
    "    {\n",
    "        \"id\": [\"hello world\", \"lorem ipsum\", \"zeno rocks!\", \"zeno is awesome!\"],        \n",
    "        \"output\": [\"a\", \"b\", \"b\", \"c\"],\n",
    "    })\n",
    "df_system_A[\"length\"] = df[\"text\"].apply(len)\n",
    "df_system_A['id'] = df['id']\n",
    "df_system_A['correct'] = df_system_A['output'] == df['label']\n",
    "\n",
    "project.upload_system(df_system_A, name=\"System A\", id_column=\"id\", output_column='output')"
   ]
  }
 ],
 "metadata": {
  "kernelspec": {
   "display_name": ".venv",
   "language": "python",
   "name": "python3"
  },
  "language_info": {
   "codemirror_mode": {
    "name": "ipython",
    "version": 3
   },
   "file_extension": ".py",
   "mimetype": "text/x-python",
   "name": "python",
   "nbconvert_exporter": "python",
   "pygments_lexer": "ipython3",
   "version": "3.8.16"
  },
  "orig_nbformat": 4
 },
 "nbformat": 4,
 "nbformat_minor": 2
}
