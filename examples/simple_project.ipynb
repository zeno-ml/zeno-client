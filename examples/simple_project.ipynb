{
 "cells": [
  {
   "cell_type": "code",
   "execution_count": null,
   "metadata": {},
   "outputs": [],
   "source": [
    "from zeno_client import ZenoClient, ZenoMetric\n",
    "import os\n",
    "import pandas as pd\n",
    "\n",
    "API_KEY = os.environ[\"ZENO_API_KEY\"]"
   ]
  },
  {
   "cell_type": "code",
   "execution_count": null,
   "metadata": {},
   "outputs": [],
   "source": [
    "zeno_client = ZenoClient(API_KEY)"
   ]
  },
  {
   "cell_type": "code",
   "execution_count": null,
   "metadata": {},
   "outputs": [],
   "source": [
    "project = zeno_client.create_project(\n",
    "    name=\"text_project\", \n",
    "    view=\"text-classification\",\n",
    "    metrics=[ZenoMetric(name=\"accuracy\", type=\"mean\", columns=[\"correct\"])]\n",
    ")"
   ]
  },
  {
   "cell_type": "code",
   "execution_count": null,
   "metadata": {},
   "outputs": [],
   "source": [
    "df = pd.DataFrame(\n",
    "    {\n",
    "        \"id\": [\"hello world\", \"lorem ipsum\", \"zeno rocks!\", \"zeno is awesome!\"],        \n",
    "        \"text\": [\"hello world\", \"lorem ipsum\", \"zeno rocks!\", \"zeno is awesome!\"],\n",
    "        \"label\": [\"a\", \"b\", \"a\", \"b\"],\n",
    "    }\n",
    ")\n",
    "df[\"length\"] = df[\"text\"].apply(len)\n",
    "df.head()\n"
   ]
  },
  {
   "cell_type": "code",
   "execution_count": null,
   "metadata": {},
   "outputs": [],
   "source": [
    "project.upload_dataset(df, id_column=\"id\", label_column=\"label\", data_column='text')"
   ]
  },
  {
   "cell_type": "code",
   "execution_count": null,
   "metadata": {},
   "outputs": [],
   "source": [
    "df_system_A = pd.DataFrame(\n",
    "    {\n",
    "        \"id\": [\"hello world\", \"lorem ipsum\", \"zeno rocks!\", \"zeno is awesome!\"],        \n",
    "        \"output\": [\"a\", \"b\", \"b\", \"c\"],\n",
    "    })\n",
    "df_system_A[\"length\"] = df[\"text\"].apply(len)\n",
    "df_system_A['id'] = df['id']\n",
    "df_system_A['correct'] = df_system_A['output'] == df['label']\n",
    "\n",
    "project.upload_system(df_system_A, name=\"System A\", id_column=\"id\", output_column='output')"
   ]
  }
 ],
 "metadata": {
  "kernelspec": {
   "display_name": ".venv",
   "language": "python",
   "name": "python3"
  },
  "language_info": {
   "codemirror_mode": {
    "name": "ipython",
    "version": 3
   },
   "file_extension": ".py",
   "mimetype": "text/x-python",
   "name": "python",
   "nbconvert_exporter": "python",
   "pygments_lexer": "ipython3",
   "version": "3.11.3"
  },
  "orig_nbformat": 4
 },
 "nbformat": 4,
 "nbformat_minor": 2
}
