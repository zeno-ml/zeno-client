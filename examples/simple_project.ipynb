{
 "cells": [
  {
   "cell_type": "code",
   "execution_count": null,
   "metadata": {},
   "outputs": [],
   "source": [
    "from zeno_client import ZenoClient, ZenoMetric\n",
    "import os\n",
    "import pandas as pd\n",
    "\n",
    "API_KEY = os.environ[\"ZENO_API_KEY\"]"
   ]
  },
  {
   "cell_type": "code",
   "execution_count": null,
   "metadata": {},
   "outputs": [],
   "source": [
    "zeno_client = ZenoClient(API_KEY)"
   ]
  },
  {
   "cell_type": "code",
   "execution_count": 1,
   "metadata": {},
   "outputs": [
    {
     "ename": "NameError",
     "evalue": "name 'zeno_client' is not defined",
     "output_type": "error",
     "traceback": [
      "\u001b[0;31m---------------------------------------------------------------------------\u001b[0m",
      "\u001b[0;31mNameError\u001b[0m                                 Traceback (most recent call last)",
      "\u001b[1;32m/Users/acabrera/dev/zeno-client/examples/simple_project.ipynb Cell 3\u001b[0m line \u001b[0;36m1\n\u001b[0;32m----> <a href='vscode-notebook-cell:/Users/acabrera/dev/zeno-client/examples/simple_project.ipynb#W2sZmlsZQ%3D%3D?line=0'>1</a>\u001b[0m project \u001b[39m=\u001b[39m zeno_client\u001b[39m.\u001b[39mcreate_project(\n\u001b[1;32m      <a href='vscode-notebook-cell:/Users/acabrera/dev/zeno-client/examples/simple_project.ipynb#W2sZmlsZQ%3D%3D?line=1'>2</a>\u001b[0m     \u001b[39m\"\u001b[39m\u001b[39mtext_project\u001b[39m\u001b[39m\"\u001b[39m, \n\u001b[1;32m      <a href='vscode-notebook-cell:/Users/acabrera/dev/zeno-client/examples/simple_project.ipynb#W2sZmlsZQ%3D%3D?line=2'>3</a>\u001b[0m     view\u001b[39m=\u001b[39m\u001b[39m\"\u001b[39m\u001b[39mtext-classification\u001b[39m\u001b[39m\"\u001b[39m,\n\u001b[1;32m      <a href='vscode-notebook-cell:/Users/acabrera/dev/zeno-client/examples/simple_project.ipynb#W2sZmlsZQ%3D%3D?line=3'>4</a>\u001b[0m     metrics\u001b[39m=\u001b[39m[ZenoMetric(name\u001b[39m=\u001b[39m\u001b[39m\"\u001b[39m\u001b[39maccuracy\u001b[39m\u001b[39m\"\u001b[39m, \u001b[39mtype\u001b[39m\u001b[39m=\u001b[39m\u001b[39m\"\u001b[39m\u001b[39mmean\u001b[39m\u001b[39m\"\u001b[39m, columns\u001b[39m=\u001b[39m[\u001b[39m\"\u001b[39m\u001b[39mcorrect\u001b[39m\u001b[39m\"\u001b[39m])]\n\u001b[1;32m      <a href='vscode-notebook-cell:/Users/acabrera/dev/zeno-client/examples/simple_project.ipynb#W2sZmlsZQ%3D%3D?line=4'>5</a>\u001b[0m )\n",
      "\u001b[0;31mNameError\u001b[0m: name 'zeno_client' is not defined"
     ]
    }
   ],
   "source": [
    "project = zeno_client.create_project(\n",
    "    \"text_project\", \n",
    "    view=\"text-classification\",\n",
    "    metrics=[ZenoMetric(name=\"accuracy\", type=\"mean\", columns=[\"correct\"])]\n",
    ")"
   ]
  },
  {
   "cell_type": "code",
   "execution_count": null,
   "metadata": {},
   "outputs": [],
   "source": [
    "df = pd.DataFrame(\n",
    "    {\n",
    "        \"id\": [\"hello world\", \"lorem ipsum\", \"zeno rocks!\", \"zeno is awesome!\"],        \n",
    "        \"text\": [\"hello world\", \"lorem ipsum\", \"zeno rocks!\", \"zeno is awesome!\"],\n",
    "        \"label\": [\"a\", \"b\", \"a\", \"b\"],\n",
    "    }\n",
    ")\n",
    "df[\"length\"] = df[\"text\"].apply(len)\n",
    "df.head()\n"
   ]
  },
  {
   "cell_type": "code",
   "execution_count": null,
   "metadata": {},
   "outputs": [],
   "source": [
    "project.upload_dataset(df, id_column=\"id\", label_column=\"label\", data_column='text')"
   ]
  },
  {
   "cell_type": "code",
   "execution_count": null,
   "metadata": {},
   "outputs": [],
   "source": [
    "df_system_A = pd.DataFrame(\n",
    "    {\n",
    "        \"id\": [\"hello world\", \"lorem ipsum\", \"zeno rocks!\", \"zeno is awesome!\"],        \n",
    "        \"output\": [\"a\", \"b\", \"b\", \"c\"],\n",
    "    })\n",
    "df_system_A[\"length\"] = df[\"text\"].apply(len)\n",
    "df_system_A['id'] = df['id']\n",
    "df_system_A['correct'] = df_system_A['output'] == df['label']\n",
    "\n",
    "project.upload_system(\"System A\", df_system_A, \"output\", 'id')"
   ]
  }
 ],
 "metadata": {
  "kernelspec": {
   "display_name": ".venv",
   "language": "python",
   "name": "python3"
  },
  "language_info": {
   "codemirror_mode": {
    "name": "ipython",
    "version": 3
   },
   "file_extension": ".py",
   "mimetype": "text/x-python",
   "name": "python",
   "nbconvert_exporter": "python",
   "pygments_lexer": "ipython3",
   "version": "3.8.16"
  },
  "orig_nbformat": 4
 },
 "nbformat": 4,
 "nbformat_minor": 2
}
