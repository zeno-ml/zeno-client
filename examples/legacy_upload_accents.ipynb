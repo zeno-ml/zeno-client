{
 "cells": [
  {
   "cell_type": "markdown",
   "metadata": {},
   "source": [
    "# Uploading Legacy Zeno Project\n",
    "\n",
    "Uploading existing zeno project to a zeno backend using the Zeno client.\n",
    "\n",
    "We assume that this existing project has been created with an older version of zeno.\n",
    "Therefore, this script makes assumptions about the column names and data structure of\n",
    "the CSV.\n",
    "\n",
    "In this example we are uploading the audio transcription example."
   ]
  },
  {
   "cell_type": "code",
   "execution_count": null,
   "metadata": {},
   "outputs": [],
   "source": [
    "from zeno_client import ZenoClient, ZenoMetric\n",
    "import pandas as pd\n",
    "import os"
   ]
  },
  {
   "cell_type": "code",
   "execution_count": null,
   "metadata": {},
   "outputs": [],
   "source": [
    "API_KEY = \"\" \n",
    "PROJECT_NAME = \"Audio Transcription Accents\"\n",
    "PROJECT_VIEW = \"audio-transcription\"\n",
    "DATA_URL = \"https://zenoml.s3.amazonaws.com/accents/\"\n",
    "EXISTING_PROJECT_PATH = \"accents.csv\""
   ]
  },
  {
   "cell_type": "code",
   "execution_count": null,
   "metadata": {},
   "outputs": [],
   "source": [
    "\n",
    "data_frame = pd.read_csv(EXISTING_PROJECT_PATH)\n",
    "data_frame = data_frame.fillna(\"\")\n",
    "output_cols = list(\n",
    "    filter(lambda col: str(col).startswith(\"OUTPUToutput\"), data_frame.columns)\n",
    ")\n",
    "models = list(\n",
    "    set(list(map(lambda col: str(col).replace(\"OUTPUToutput\", \"\"), output_cols)))\n",
    ")\n",
    "predistill_cols = list(\n",
    "    filter(lambda col: str(col).startswith(\"PREDISTILL\"), data_frame.columns)\n",
    ")\n",
    "postdistill_cols = list(\n",
    "    filter(lambda col: str(col).startswith(\"POSTDISTILL\"), data_frame.columns)\n",
    ")\n",
    "embedding_cols = list(\n",
    "    filter(lambda col: str(col).startswith(\"EMBEDDING\"), data_frame.columns)\n",
    ")"
   ]
  },
  {
   "cell_type": "code",
   "execution_count": null,
   "metadata": {},
   "outputs": [],
   "source": [
    "data_frame.head()"
   ]
  },
  {
   "cell_type": "code",
   "execution_count": null,
   "metadata": {},
   "outputs": [],
   "source": [
    "df_dataset = data_frame.drop(output_cols + predistill_cols + postdistill_cols + embedding_cols, axis=1)\n",
    "df_dataset[\"continent\"] = df_dataset.apply(lambda row: \"North America\" if row[\"country\"] == \"usa\" else row[\"continent\"], axis=1)"
   ]
  },
  {
   "cell_type": "code",
   "execution_count": null,
   "metadata": {},
   "outputs": [],
   "source": [
    "df_dataset.head()"
   ]
  },
  {
   "cell_type": "code",
   "execution_count": null,
   "metadata": {},
   "outputs": [],
   "source": [
    "zeno_client = ZenoClient(API_KEY)\n",
    "project = zeno_client.create_project(\n",
    "    PROJECT_NAME, \n",
    "    view=PROJECT_VIEW,\n",
    "    data_url=DATA_URL,\n",
    "    metrics=[ZenoMetric(name=\"avg_wer\", type=\"mean\", columns=[\"wer\"])]\n",
    ")"
   ]
  },
  {
   "cell_type": "code",
   "execution_count": null,
   "metadata": {},
   "outputs": [],
   "source": [
    "project.upload_dataset(df_dataset, \"id\", label_column=\"label\", data_column=\"id.1\")"
   ]
  },
  {
   "cell_type": "code",
   "execution_count": null,
   "metadata": {},
   "outputs": [],
   "source": [
    "for i, model in enumerate(models):\n",
    "    df_to_upload = data_frame[[\"id\", f\"OUTPUToutput{model}\", f\"POSTDISTILLwer_m{model}\"]].rename(columns={f\"OUTPUToutput{model}\": \"output\", f\"POSTDISTILLwer_m{model}\": \"wer\"})\n",
    "    project.upload_system(\n",
    "        model,\n",
    "        df_to_upload,\n",
    "        output_column=\"output\",\n",
    "        id_column=\"id\",\n",
    "    )"
   ]
  }
 ],
 "metadata": {
  "kernelspec": {
   "display_name": ".venv",
   "language": "python",
   "name": "python3"
  },
  "language_info": {
   "codemirror_mode": {
    "name": "ipython",
    "version": 3
   },
   "file_extension": ".py",
   "mimetype": "text/x-python",
   "name": "python",
   "nbconvert_exporter": "python",
   "pygments_lexer": "ipython3",
   "version": "3.8.16"
  },
  "orig_nbformat": 4
 },
 "nbformat": 4,
 "nbformat_minor": 2
}
